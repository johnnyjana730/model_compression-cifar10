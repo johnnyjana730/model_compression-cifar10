{
 "cells": [
  {
   "cell_type": "markdown",
   "metadata": {},
   "source": [
    "# Simply model compression"
   ]
  },
  {
   "cell_type": "code",
   "execution_count": 1,
   "metadata": {},
   "outputs": [
    {
     "name": "stderr",
     "output_type": "stream",
     "text": [
      "/Library/Frameworks/Python.framework/Versions/3.6/lib/python3.6/site-packages/h5py/__init__.py:36: FutureWarning: Conversion of the second argument of issubdtype from `float` to `np.floating` is deprecated. In future, it will be treated as `np.float64 == np.dtype(float).type`.\n",
      "  from ._conv import register_converters as _register_converters\n",
      "Using TensorFlow backend.\n"
     ]
    }
   ],
   "source": [
    "from __future__ import print_function\n",
    "import keras\n",
    "from keras.datasets import cifar10\n",
    "from sklearn import metrics\n",
    "from keras.models import Sequential\n",
    "from keras.layers import Dense, Dropout, Flatten\n",
    "from keras.layers import Conv2D, MaxPooling2D, BatchNormalization\n",
    "from keras import backend as K\n",
    "import h5py\n",
    "import numpy as np\n"
   ]
  },
  {
   "cell_type": "code",
   "execution_count": 2,
   "metadata": {},
   "outputs": [],
   "source": [
    "def show(img):\n",
    "    io.imshow(img)\n",
    "    io.show()\n",
    "def softmax_c(z):\n",
    "    assert len(z.shape) == 2\n",
    "    s = np.max(z, axis=1)\n",
    "    s = s[:, np.newaxis]\n",
    "    e_x = np.exp(z - s)\n",
    "    div = np.sum(e_x, axis=1)\n",
    "    div = div[:, np.newaxis] \n",
    "    return e_x / div\n",
    "\n",
    "batch_size = 128\n",
    "num_classes = 10\n",
    "epochs = 12\n",
    "\n",
    "# input image dimensions\n",
    "img_rows, img_cols = 32, 32"
   ]
  },
  {
   "cell_type": "markdown",
   "metadata": {},
   "source": [
    "Build model and load pretrain weight "
   ]
  },
  {
   "cell_type": "code",
   "execution_count": 3,
   "metadata": {},
   "outputs": [
    {
     "name": "stdout",
     "output_type": "stream",
     "text": [
      "x_train shape: (50000, 32, 32, 3)\n",
      "50000 train samples\n",
      "10000 test samples\n",
      "_________________________________________________________________\n",
      "Layer (type)                 Output Shape              Param #   \n",
      "=================================================================\n",
      "conv2d_1 (Conv2D)            (None, 28, 28, 64)        4864      \n",
      "_________________________________________________________________\n",
      "max_pooling2d_1 (MaxPooling2 (None, 14, 14, 64)        0         \n",
      "_________________________________________________________________\n",
      "batch_normalization_1 (Batch (None, 14, 14, 64)        256       \n",
      "_________________________________________________________________\n",
      "conv2d_2 (Conv2D)            (None, 10, 10, 64)        102464    \n",
      "_________________________________________________________________\n",
      "batch_normalization_2 (Batch (None, 10, 10, 64)        256       \n",
      "_________________________________________________________________\n",
      "max_pooling2d_2 (MaxPooling2 (None, 5, 5, 64)          0         \n",
      "_________________________________________________________________\n",
      "flatten_1 (Flatten)          (None, 1600)              0         \n",
      "_________________________________________________________________\n",
      "dense_1 (Dense)              (None, 256)               409856    \n",
      "_________________________________________________________________\n",
      "dense_2 (Dense)              (None, 96)                24672     \n",
      "_________________________________________________________________\n",
      "dense_3 (Dense)              (None, 10)                970       \n",
      "=================================================================\n",
      "Total params: 543,338\n",
      "Trainable params: 543,082\n",
      "Non-trainable params: 256\n",
      "_________________________________________________________________\n"
     ]
    }
   ],
   "source": [
    "\n",
    "# the data, split between train and test sets\n",
    "(x_train, y_train), (x_test, y_test) = cifar10.load_data()\n",
    "\n",
    "x_train = x_train.astype('float32')\n",
    "x_test = x_test.astype('float32')\n",
    "x_train /= 255\n",
    "x_test /= 255\n",
    "print('x_train shape:', x_train.shape)\n",
    "print(x_train.shape[0], 'train samples')\n",
    "print(x_test.shape[0], 'test samples')\n",
    "\n",
    "# convert class vectors to binary class matrices\n",
    "y_train = keras.utils.to_categorical(y_train, num_classes)\n",
    "y_test = keras.utils.to_categorical(y_test, num_classes)\n",
    "\n",
    "model = Sequential()\n",
    "model.add(Conv2D(64, kernel_size=(5, 5),\n",
    "                 activation='relu',\n",
    "                 input_shape=(img_rows, img_cols, 3)))\n",
    "model.add(MaxPooling2D(pool_size=(2, 2),strides=(2, 2)))\n",
    "model.add(BatchNormalization())\n",
    "model.add(Conv2D(64, kernel_size=(5, 5),\n",
    "                 activation='relu'))\n",
    "model.add(BatchNormalization())\n",
    "model.add(MaxPooling2D(pool_size=(2, 2),strides=(2, 2)))\n",
    "model.add(Flatten())\n",
    "model.add(Dense(256, activation='relu'))\n",
    "model.add(Dense(96, activation='relu'))\n",
    "model.add(Dense(num_classes, activation='softmax'))\n",
    "\n",
    "model.summary()\n",
    "model.compile(loss=keras.losses.categorical_crossentropy,\n",
    "              optimizer=keras.optimizers.Adadelta(),\n",
    "              metrics=['accuracy'])\n",
    "\n",
    "model.load_weights('model_1/cifar10_model_weights.h5')"
   ]
  },
  {
   "cell_type": "code",
   "execution_count": 4,
   "metadata": {},
   "outputs": [
    {
     "name": "stdout",
     "output_type": "stream",
     "text": [
      "Test loss: 1.525108920764923\n",
      "Test accuracy: 0.6949\n"
     ]
    }
   ],
   "source": [
    "score = model.evaluate(x_test, y_test, verbose=0)\n",
    "print('Test loss:', score[0])\n",
    "print('Test accuracy:', score[1])"
   ]
  },
  {
   "cell_type": "markdown",
   "metadata": {},
   "source": [
    "a little bad accuracy, anyway."
   ]
  },
  {
   "cell_type": "code",
   "execution_count": 5,
   "metadata": {},
   "outputs": [
    {
     "name": "stdout",
     "output_type": "stream",
     "text": [
      "Memory footprint per Image Feed Forward ~=  2.0726699829101562 Mb\n"
     ]
    }
   ],
   "source": [
    "convparams = 4864 + 256 + 102464 + 256\n",
    "trainable_params = model.count_params()\n",
    "footprint = trainable_params * 4\n",
    "print (\"Memory footprint per Image Feed Forward ~= \" , footprint / 1024.0 /1024.0 ,\"Mb\")"
   ]
  },
  {
   "cell_type": "markdown",
   "metadata": {},
   "source": [
    "compute orignal size of parameters."
   ]
  },
  {
   "cell_type": "markdown",
   "metadata": {},
   "source": [
    "Next part is extra features."
   ]
  },
  {
   "cell_type": "code",
   "execution_count": null,
   "metadata": {},
   "outputs": [],
   "source": [
    "from matplotlib import pyplot as plt \n",
    "def prepare_softtargets(model,X):\n",
    "        inp = model.input                                     \n",
    "        outputs = []\n",
    "        for layer in model.layers[:]:\n",
    "            if layer.name == 'flatten_1':\n",
    "                outputs.append(layer.output)\n",
    "            if layer.name == 'dense_1':\n",
    "                outputs.append(layer.output)\n",
    "            if layer.name == 'dense_2':\n",
    "                outputs.append(layer.output)\n",
    "            if layer.name == 'dense_3':\n",
    "                outputs.append(layer.output)\n",
    "        functor = K.function([inp]+ [K.learning_phase()], outputs ) # evaluation function\n",
    "        layer_outs = functor([X, 1.])\n",
    "        return np.array(layer_outs[0]) , np.array(layer_outs[1]), np.array(layer_outs[2]), np.array(layer_outs[3])\n",
    "\n",
    "    lastconv_out = []\n",
    "    logit_out = []\n",
    "    logit_out2 = []\n",
    "    logit_out3 = []\n",
    "    for i in range(0,50):\n",
    "        print (\"Batch # : \",i)\n",
    "        f1,d1,d2, d3 =  (prepare_softtargets(model,x_train[i*1000:(i+1)*1000]))\n",
    "        print(f1.shape)\n",
    "        lastconv_out.append(f1)\n",
    "        logit_out.append(d1)\n",
    "        logit_out2.append(d2)\n",
    "        logit_out3.append(d3)\n",
    "        #lastconv_out , logit_out = prepare_softtargets(model,x_train[i*1000:(i+1)*1000])\n",
    "\n",
    "    # lastconv_out.shape , logit_out.shape\n",
    "    lastconv_out = np.array(lastconv_out)\n",
    "    logit_out = np.array(logit_out)\n",
    "    logit_out2 = np.array(logit_out2)\n",
    "    logit_out3 = np.array(logit_out3)\n",
    "    print(lastconv_out.shape)\n",
    "    lastconv_out = lastconv_out.reshape((50000 , 1600))\n",
    "    logit_out = logit_out.reshape((50000 , 256))\n",
    "    logit_out2 = logit_out2.reshape((50000 , 96))\n",
    "    logit_out3 = logit_out3.reshape((50000 , 10))\n",
    "    print(\"lastconv_out = \",lastconv_out.shape,\"logit_out = \",logit_out.shape,\"logit_out2 = \",logit_out2.shape,\"logit_out3 = \",logit_out3.shape)\n",
    "\n",
    "    print(\"clean up \")\n",
    "    x_train = 0\n",
    "\n",
    "    h5f = h5py.File('model_1/lastconv_out.h5', 'w')\n",
    "    h5f.create_dataset('dataset_1', data=lastconv_out)\n",
    "    h5f.close()\n",
    "\n",
    "    h5f2 = h5py.File('model_1/logit_out.h5', 'w')\n",
    "    h5f2.create_dataset('dataset_1', data=logit_out)\n",
    "    h5f2.close()\n",
    "\n",
    "    h5f3 = h5py.File('model_1/logit_out2.h5', 'w')\n",
    "    h5f3.create_dataset('dataset_1', data=logit_out2)\n",
    "    h5f3.close()\n",
    "\n",
    "    h5f4 = h5py.File('model_1/logit_out3.h5', 'w')\n",
    "    h5f4.create_dataset('dataset_1', data=logit_out3)\n",
    "    h5f4.close()\n",
    "\n",
    "    # free up memory\n",
    "    lastconv_out = 0\n",
    "    logit_out = 0 \n",
    "    logit_out2 = 0\n",
    "    logit_out3 = 0\n",
    "\n",
    "    # test data set\n",
    "    lastconv_out = []\n",
    "    logit_out = []\n",
    "    logit_out2 = []\n",
    "    logit_out3 = []\n",
    "\n",
    "    for i in range(0,10):\n",
    "        print (\"Batch # : \",i)\n",
    "        f1,d1,d2, d3 =  ( prepare_softtargets(model,x_test[i*1000:(i+1)*1000]))\n",
    "        lastconv_out.append(f1)\n",
    "        logit_out.append(d1)\n",
    "        logit_out2.append(d2)\n",
    "        logit_out3.append(d3)\n",
    "        #lastconv_out , logit_out = prepare_softtargets(model,x_train[i*1000:(i+1)*1000])\n",
    "\n",
    "    # lastconv_out.shape , logit_out.shape\n",
    "    lastconv_out = np.array(lastconv_out)\n",
    "    logit_out = np.array(logit_out)\n",
    "    logit_out2 = np.array(logit_out2)\n",
    "    logit_out3 = np.array(logit_out3)\n",
    "    lastconv_out = lastconv_out.reshape((10000 , 1600))\n",
    "    logit_out = logit_out.reshape((10000 , 256))\n",
    "    logit_out2 = logit_out2.reshape((10000 , 96))\n",
    "    logit_out3 = logit_out3.reshape((10000 , 10))\n",
    "\n",
    "\n",
    "    h5f = h5py.File('model_1/test_lastconv_out.h5', 'w')\n",
    "    h5f.create_dataset('dataset_1', data=lastconv_out)\n",
    "    h5f.close()\n",
    "\n",
    "    h5f2 = h5py.File('model_1/test_logit_out.h5', 'w')\n",
    "    h5f2.create_dataset('dataset_1', data=logit_out)\n",
    "    h5f2.close()\n",
    "\n",
    "    h5f3 = h5py.File('model_1/test_logit_out2.h5', 'w')\n",
    "    h5f3.create_dataset('dataset_1', data=logit_out2)\n",
    "    h5f3.close()\n",
    "\n",
    "    h5f4 = h5py.File('model_1/test_logit_out3.h5', 'w')\n",
    "    h5f4.create_dataset('dataset_1', data=logit_out3)\n",
    "    h5f4.close()"
   ]
  },
  {
   "cell_type": "markdown",
   "metadata": {},
   "source": [
    "define plot function"
   ]
  },
  {
   "cell_type": "code",
   "execution_count": 11,
   "metadata": {},
   "outputs": [],
   "source": [
    "from matplotlib import pyplot as plt\n",
    "def plot_findings(results,name,save=False):\n",
    "    fig = plt.figure()\n",
    "    fig.suptitle('parameter Size and Accuracy', fontsize=20)\n",
    "    plt.plot([r['nparams_student'] for r in results] , [r['accuracy_student'] for r in results])\n",
    "    plt.xlabel('Parameter Size', fontsize=18)\n",
    "    plt.ylabel('accuracy', fontsize=16)\n",
    "    if save:  fig.savefig('model_1/plots/' + name + '_parameterSize_Accuracy.png')\n",
    "#     plt.show()\n",
    "    fig\n",
    "    fig = plt.figure()\n",
    "    fig.suptitle('Compression Rate and Accuracy', fontsize=20)\n",
    "    plt.plot([r['compressionRate'] for r in results] , [r['accuracy_student'] for r in results])\n",
    "    plt.xlabel('compression Rate', fontsize=18)\n",
    "    plt.ylabel('accuracy', fontsize=18)\n",
    "    if save:  fig.savefig('model_1/plots/' + name +'_CompressionRate_Accuracy.png')\n",
    "#     plt.show()\n",
    "    fig"
   ]
  },
  {
   "cell_type": "markdown",
   "metadata": {},
   "source": [
    "finetunedense1_dense2 (default number parameter of dense2 is two time of dense1)\n",
    "remind that test accuray only 0.6949"
   ]
  },
  {
   "cell_type": "code",
   "execution_count": 9,
   "metadata": {},
   "outputs": [
    {
     "name": "stdout",
     "output_type": "stream",
     "text": [
      "finetunedense1_dense2\n"
     ]
    },
    {
     "name": "stderr",
     "output_type": "stream",
     "text": [
      "/Library/Frameworks/Python.framework/Versions/3.6/lib/python3.6/site-packages/ipykernel_launcher.py:23: UserWarning: The `nb_epoch` argument in `fit` has been renamed `epochs`.\n"
     ]
    },
    {
     "name": "stdout",
     "output_type": "stream",
     "text": [
      "dense1 and dense2 fine tune\n",
      "HiddenNeurons :  2\n",
      "Initial Parameters :  543338\n",
      "Compressed parameters:  115254\n",
      "Compression Rate :  4.714265882312111\n",
      "Accuracy compare with test set:  0.4943\n",
      "dense1 and dense2 fine tune\n",
      "HiddenNeurons :  5\n",
      "Initial Parameters :  543338\n",
      "Compressed parameters:  124935\n",
      "Compression Rate :  4.348965462040261\n",
      "Accuracy compare with test set:  0.6556\n",
      "dense1 and dense2 fine tune\n",
      "HiddenNeurons :  8\n",
      "Initial Parameters :  543338\n",
      "Compressed parameters:  134652\n",
      "Compression Rate :  4.035127588153165\n",
      "Accuracy compare with test set:  0.6729\n",
      "dense1 and dense2 fine tune\n",
      "HiddenNeurons :  11\n",
      "Initial Parameters :  543338\n",
      "Compressed parameters:  144405\n",
      "Compression Rate :  3.762598247983103\n",
      "Accuracy compare with test set:  0.6767\n",
      "dense1 and dense2 fine tune\n",
      "HiddenNeurons :  14\n",
      "Initial Parameters :  543338\n",
      "Compressed parameters:  154194\n",
      "Compression Rate :  3.523729846816348\n",
      "Accuracy compare with test set:  0.6775\n",
      "dense1 and dense2 fine tune\n",
      "HiddenNeurons :  17\n",
      "Initial Parameters :  543338\n",
      "Compressed parameters:  164019\n",
      "Compression Rate :  3.312652802419232\n",
      "Accuracy compare with test set:  0.6826\n"
     ]
    }
   ],
   "source": [
    "# finetunedense1_dense2\n",
    "print('finetunedense1_dense2')\n",
    "results = []\n",
    "for HiddenNeuron in range(2,20,3):\n",
    "\n",
    "    h5f = h5py.File('model_1/lastconv_out.h5', 'r')\n",
    "    lastconv_out = h5f['dataset_1'][:]\n",
    "    h5f.close()\n",
    "\n",
    "    h5f4 = h5py.File('model_1/logit_out3.h5', 'r')\n",
    "    logit_out3 = h5f4['dataset_1'][:]\n",
    "    h5f4.close()\n",
    "\n",
    "    student_model = Sequential()\n",
    "    student_model.add(Dense(HiddenNeuron*2,input_dim=1600,activation='relu'))\n",
    "    student_model.add(Dense(HiddenNeuron, activation='relu'))\n",
    "    student_model.add(Dense(num_classes, activation='softmax'))\n",
    "\n",
    "    student_model.compile(loss='mse',\n",
    "                optimizer=keras.optimizers.Adadelta(),\n",
    "                metrics=['accuracy'])\n",
    "\n",
    "    student_model.fit(lastconv_out, logit_out3,nb_epoch=40,verbose=0)\n",
    "#     student_model.save_weights(\"student_weights_\"+str(HiddenNeuron)+\"hidden_0.5_dropout.h5\")\n",
    "\n",
    "    # Compression Rate from Number of Parameters Reduced\n",
    "    dense2_dense1_para = 409856 + 24672\n",
    "\n",
    "    print(\"dense1 and dense2 fine tune\")\n",
    "    print (\"HiddenNeurons : \" , HiddenNeuron)\n",
    "    print (\"Initial Parameters : \" , model.count_params())\n",
    "    print (\"Compressed parameters: \", model.count_params() - dense2_dense1_para + student_model.count_params())\n",
    "    compressionRate = model.count_params() / np.float(model.count_params() - dense2_dense1_para + student_model.count_params())\n",
    "    print (\"Compression Rate : \" , compressionRate)\n",
    "\n",
    "    lastconv_out = 0\n",
    "    logit_out2 = 0                \n",
    "\n",
    "    h5f = h5py.File('model_1/test_lastconv_out.h5', 'r')\n",
    "    test_lastconv_out = h5f['dataset_1'][:]\n",
    "    h5f.close()\n",
    "\n",
    "    h5f4 = h5py.File('model_1/test_logit_out3.h5', 'r')\n",
    "    test_logit_out = h5f4['dataset_1'][:]\n",
    "    h5f4.close()\n",
    "\n",
    "    pred = student_model.predict(test_lastconv_out)\n",
    "    probs = softmax_c(pred)\n",
    "    pred_classes = np.argmax(probs,axis=1)\n",
    "\n",
    "    accuracy_student = metrics.accuracy_score(y_pred=pred_classes,y_true=np.argmax(y_test,axis=1))\n",
    "    print (\"Accuracy compare with test set: \" , accuracy_student)\n",
    "\n",
    "    out = {\n",
    "        \"HiddenNeuron\" :    HiddenNeuron,\n",
    "        \"compressionRate\" : compressionRate,\n",
    "        \"nparams_student\" : student_model.count_params()  + convparams,\n",
    "        \"accuracy_student\": accuracy_student\n",
    "    }\n",
    "\n",
    "    student_model = 0 \n",
    "    lastconv_out = 0\n",
    "    logit_out = 0 \n",
    "    test_lastconv_out = 0\n",
    "    test_logit_out = 0 \n",
    "    results.append(out)"
   ]
  },
  {
   "cell_type": "code",
   "execution_count": 12,
   "metadata": {},
   "outputs": [
    {
     "name": "stdout",
     "output_type": "stream",
     "text": [
      "finetunedense1_dense2 =  [{'HiddenNeuron': 2, 'compressionRate': 4.714265882312111, 'nparams_student': 114284, 'accuracy_student': 0.4943}, {'HiddenNeuron': 5, 'compressionRate': 4.348965462040261, 'nparams_student': 123965, 'accuracy_student': 0.6556}, {'HiddenNeuron': 8, 'compressionRate': 4.035127588153165, 'nparams_student': 133682, 'accuracy_student': 0.6729}, {'HiddenNeuron': 11, 'compressionRate': 3.762598247983103, 'nparams_student': 143435, 'accuracy_student': 0.6767}, {'HiddenNeuron': 14, 'compressionRate': 3.523729846816348, 'nparams_student': 153224, 'accuracy_student': 0.6775}, {'HiddenNeuron': 17, 'compressionRate': 3.312652802419232, 'nparams_student': 163049, 'accuracy_student': 0.6826}]\n"
     ]
    },
    {
     "data": {
      "image/png": "[encoded data removed]",
      "text/plain": [
       "<matplotlib.figure.Figure at 0x131bac9b0>"
      ]
     },
     "metadata": {
      "needs_background": "light"
     },
     "output_type": "display_data"
    },
    {
     "data": {
      "image/png": "[encoded data removed]",
      "text/plain": [
       "<matplotlib.figure.Figure at 0x174422128>"
      ]
     },
     "metadata": {
      "needs_background": "light"
     },
     "output_type": "display_data"
    }
   ],
   "source": [
    "print('finetunedense1_dense2 = ',results)\n",
    "plot_findings(results,'dense1_dense2',save=True)"
   ]
  },
  {
   "cell_type": "markdown",
   "metadata": {},
   "source": [
    "Try to reduce two dense to one dense layer to see the difference"
   ]
  },
  {
   "cell_type": "code",
   "execution_count": 14,
   "metadata": {},
   "outputs": [
    {
     "name": "stdout",
     "output_type": "stream",
     "text": [
      "reduce layer\n"
     ]
    },
    {
     "name": "stderr",
     "output_type": "stream",
     "text": [
      "/Library/Frameworks/Python.framework/Versions/3.6/lib/python3.6/site-packages/ipykernel_launcher.py:22: UserWarning: The `nb_epoch` argument in `fit` has been renamed `epochs`.\n"
     ]
    },
    {
     "name": "stdout",
     "output_type": "stream",
     "text": [
      "dense1 and dense2 fine tune\n",
      "HiddenNeurons :  2\n",
      "Initial Parameters :  543338\n",
      "Compressed parameters:  112042\n",
      "Compression Rate :  4.849413612752361\n",
      "Accuracy compare with test set:  0.4383\n",
      "dense1 and dense2 fine tune\n",
      "HiddenNeurons :  5\n",
      "Initial Parameters :  543338\n",
      "Compressed parameters:  116875\n",
      "Compression Rate :  4.64888128342246\n",
      "Accuracy compare with test set:  0.6154\n",
      "dense1 and dense2 fine tune\n",
      "HiddenNeurons :  8\n",
      "Initial Parameters :  543338\n",
      "Compressed parameters:  121708\n",
      "Compression Rate :  4.464275150359878\n",
      "Accuracy compare with test set:  0.6702\n",
      "dense1 and dense2 fine tune\n",
      "HiddenNeurons :  11\n",
      "Initial Parameters :  543338\n",
      "Compressed parameters:  126541\n",
      "Compression Rate :  4.293770398526959\n",
      "Accuracy compare with test set:  0.6649\n",
      "dense1 and dense2 fine tune\n",
      "HiddenNeurons :  14\n",
      "Initial Parameters :  543338\n",
      "Compressed parameters:  131374\n",
      "Compression Rate :  4.135810738806765\n",
      "Accuracy compare with test set:  0.6693\n"
     ]
    }
   ],
   "source": [
    "# reduce layer\n",
    "print('reduce layer')\n",
    "results = []\n",
    "for HiddenNeuron in range(2,15,3):\n",
    "\n",
    "    h5f = h5py.File('model_1/lastconv_out.h5', 'r')\n",
    "    lastconv_out = h5f['dataset_1'][:]\n",
    "    h5f.close()\n",
    "\n",
    "    h5f4 = h5py.File('model_1/logit_out3.h5', 'r')\n",
    "    logit_out3 = h5f4['dataset_1'][:]\n",
    "    h5f4.close()\n",
    "\n",
    "    student_model = Sequential()\n",
    "    student_model.add(Dense(HiddenNeuron,input_dim=1600,activation='relu'))\n",
    "    student_model.add(Dense(num_classes, activation='softmax'))\n",
    "\n",
    "    student_model.compile(loss='mse',\n",
    "                optimizer=keras.optimizers.Adadelta(),\n",
    "                metrics=['accuracy'])\n",
    "\n",
    "    student_model.fit(lastconv_out, logit_out3,nb_epoch=40,verbose=0)\n",
    "#     student_model.save_weights(\"student_weights_\"+str(HiddenNeuron)+\"hidden_0.5_dropout.h5\")\n",
    "\n",
    "    # Compression Rate from Number of Parameters Reduced\n",
    "    dense2_dense1_para = 409856 + 24672\n",
    "\n",
    "    print(\"dense1 and dense2 fine tune\")\n",
    "    print (\"HiddenNeurons : \" , HiddenNeuron)\n",
    "    print (\"Initial Parameters : \" , model.count_params())\n",
    "    print (\"Compressed parameters: \", model.count_params() - dense2_dense1_para + student_model.count_params())\n",
    "    compressionRate = model.count_params() / np.float(model.count_params() - dense2_dense1_para + student_model.count_params())\n",
    "    print (\"Compression Rate : \" , compressionRate)\n",
    "\n",
    "    lastconv_out = 0\n",
    "    logit_out2 = 0                \n",
    "\n",
    "    h5f = h5py.File('model_1/test_lastconv_out.h5', 'r')\n",
    "    test_lastconv_out = h5f['dataset_1'][:]\n",
    "    h5f.close()\n",
    "\n",
    "    h5f4 = h5py.File('model_1/test_logit_out3.h5', 'r')\n",
    "    test_logit_out = h5f4['dataset_1'][:]\n",
    "    h5f4.close()\n",
    "\n",
    "    pred = student_model.predict(test_lastconv_out)\n",
    "    probs = softmax_c(pred)\n",
    "    pred_classes = np.argmax(probs,axis=1)\n",
    "\n",
    "    accuracy_student = metrics.accuracy_score(y_pred=pred_classes,y_true=np.argmax(y_test,axis=1))\n",
    "    print (\"Accuracy compare with test set: \" , accuracy_student)\n",
    "\n",
    "    out = {\n",
    "        \"HiddenNeuron\" :    HiddenNeuron,\n",
    "        \"compressionRate\" : compressionRate,\n",
    "        \"nparams_student\" : student_model.count_params()  + convparams,\n",
    "        \"accuracy_student\": accuracy_student\n",
    "    }\n",
    "\n",
    "    student_model = 0 \n",
    "    lastconv_out = 0\n",
    "    logit_out = 0 \n",
    "    test_lastconv_out = 0\n",
    "    test_logit_out = 0 \n",
    "\n",
    "    results.append(out)"
   ]
  },
  {
   "cell_type": "code",
   "execution_count": 15,
   "metadata": {},
   "outputs": [
    {
     "name": "stdout",
     "output_type": "stream",
     "text": [
      "remove_d1_d2 =  [{'HiddenNeuron': 2, 'compressionRate': 4.849413612752361, 'nparams_student': 111072, 'accuracy_student': 0.4383}, {'HiddenNeuron': 5, 'compressionRate': 4.64888128342246, 'nparams_student': 115905, 'accuracy_student': 0.6154}, {'HiddenNeuron': 8, 'compressionRate': 4.464275150359878, 'nparams_student': 120738, 'accuracy_student': 0.6702}, {'HiddenNeuron': 11, 'compressionRate': 4.293770398526959, 'nparams_student': 125571, 'accuracy_student': 0.6649}, {'HiddenNeuron': 14, 'compressionRate': 4.135810738806765, 'nparams_student': 130404, 'accuracy_student': 0.6693}]\n"
     ]
    },
    {
     "data": {
      "image/png": "[encoded data removed]",
      "text/plain": [
       "<matplotlib.figure.Figure at 0x187f3ad30>"
      ]
     },
     "metadata": {
      "needs_background": "light"
     },
     "output_type": "display_data"
    },
    {
     "data": {
      "image/png": "[encoded data removed]",
      "text/plain": [
       "<matplotlib.figure.Figure at 0x17494f5c0>"
      ]
     },
     "metadata": {
      "needs_background": "light"
     },
     "output_type": "display_data"
    }
   ],
   "source": [
    "print('remove_d1_d2 = ', results)\n",
    "plot_findings(results,'remove_d1_d2',save=True)"
   ]
  },
  {
   "cell_type": "markdown",
   "metadata": {},
   "source": [
    "define new plot function cuz accuracy item different. (in order to save time @@)"
   ]
  },
  {
   "cell_type": "code",
   "execution_count": 20,
   "metadata": {},
   "outputs": [],
   "source": [
    "def plot_findings2(results,name,save=False):\n",
    "    fig = plt.figure()\n",
    "    fig.suptitle('parameter Size and dense2 Accuracy', fontsize=20)\n",
    "    plt.plot([r['nparams_student'] for r in results] , [r['accuracy_student_premodel_prediction'][1] for r in results])\n",
    "    plt.xlabel('Parameter Size', fontsize=18)\n",
    "    plt.ylabel('accuracy', fontsize=16)\n",
    "    if save:  fig.savefig('model_1/plots/' + name + '_parameterSize_Accuracy.png')\n",
    "    # plt.show()\n",
    "    fig\n",
    "    fig = plt.figure()\n",
    "    fig.suptitle('Compression Rate and dense2 Accuracy', fontsize=20)\n",
    "    plt.plot([r['compressionRate'] for r in results] , [r['accuracy_student_premodel_prediction'][1] for r in results])\n",
    "    plt.xlabel('compression Rate', fontsize=18)\n",
    "    plt.ylabel('accuracy', fontsize=18)\n",
    "    if save:  fig.savefig('model_1/plots/' + name +'_CompressionRate_Accuracy.png')\n",
    "    # plt.show()\n",
    "    fig"
   ]
  },
  {
   "cell_type": "markdown",
   "metadata": {},
   "source": [
    "only fine tune dense2 layer to see the results\n",
    "the accuracy is compare with previous dense2 layer."
   ]
  },
  {
   "cell_type": "code",
   "execution_count": 17,
   "metadata": {},
   "outputs": [
    {
     "name": "stdout",
     "output_type": "stream",
     "text": [
      "finetunedense2\n"
     ]
    },
    {
     "name": "stderr",
     "output_type": "stream",
     "text": [
      "/Library/Frameworks/Python.framework/Versions/3.6/lib/python3.6/site-packages/ipykernel_launcher.py:22: UserWarning: The `nb_epoch` argument in `fit` has been renamed `epochs`.\n"
     ]
    },
    {
     "name": "stdout",
     "output_type": "stream",
     "text": [
      "dense2 fine tune\n",
      "HiddenNeurons :  96\n",
      "Initial  Parameters :  543338\n",
      "Compressed dense2 parameters:  296490\n",
      "Compression Rate :  1.8325677088603325\n",
      "10000/10000 [==============================] - 1s 63us/step\n",
      "Accuracy compare with previous model prediction:  0.6092\n",
      "dense2 fine tune\n",
      "HiddenNeurons :  126\n",
      "Initial  Parameters :  543338\n",
      "Compressed dense2 parameters:  347400\n",
      "Compression Rate :  1.5640126655152562\n",
      "10000/10000 [==============================] - 1s 68us/step\n",
      "Accuracy compare with previous model prediction:  0.6567\n",
      "dense2 fine tune\n",
      "HiddenNeurons :  156\n",
      "Initial  Parameters :  543338\n",
      "Compressed dense2 parameters:  398310\n",
      "Compression Rate :  1.3641083578117548\n",
      "10000/10000 [==============================] - 1s 72us/step\n",
      "Accuracy compare with previous model prediction:  0.6952\n",
      "dense2 fine tune\n",
      "HiddenNeurons :  186\n",
      "Initial  Parameters :  543338\n",
      "Compressed dense2 parameters:  449220\n",
      "Compression Rate :  1.2095142691776857\n",
      "10000/10000 [==============================] - 1s 74us/step\n",
      "Accuracy compare with previous model prediction:  0.7516\n",
      "dense2 fine tune\n",
      "HiddenNeurons :  216\n",
      "Initial  Parameters :  543338\n",
      "Compressed dense2 parameters:  500130\n",
      "Compression Rate :  1.0863935376802032\n",
      "10000/10000 [==============================] - 1s 71us/step\n",
      "Accuracy compare with previous model prediction:  0.8094\n",
      "dense2 fine tune\n",
      "HiddenNeurons :  246\n",
      "Initial  Parameters :  543338\n",
      "Compressed dense2 parameters:  551040\n",
      "Compression Rate :  0.986022793263647\n",
      "10000/10000 [==============================] - 1s 100us/step\n",
      "Accuracy compare with previous model prediction:  0.8904\n"
     ]
    }
   ],
   "source": [
    "# finetunedense2\n",
    "print('finetunedense2')\n",
    "results = []\n",
    "for HiddenNeuron in range(96,256,30):\n",
    "\n",
    "    h5f = h5py.File('model_1/lastconv_out.h5', 'r')\n",
    "    lastconv_out = h5f['dataset_1'][:]\n",
    "    h5f.close()\n",
    "\n",
    "    h5f3 = h5py.File('model_1/logit_out2.h5', 'r')\n",
    "    logit_out2 = h5f3['dataset_1'][:]\n",
    "    h5f3.close()\n",
    "\n",
    "    student_model = Sequential()\n",
    "    student_model.add(Dense(HiddenNeuron,input_dim=1600,activation='relu'))\n",
    "    student_model.add(Dense(96, activation='relu'))\n",
    "\n",
    "    student_model.compile(loss='mse',\n",
    "                optimizer=keras.optimizers.Adadelta(),\n",
    "                metrics=['accuracy'])\n",
    "\n",
    "    student_model.fit(lastconv_out, logit_out2,nb_epoch=40,verbose=0)\n",
    "#     student_model.save_weights(\"student_weights_\"+str(HiddenNeuron)+\"hidden_0.5_dropout.h5\")\n",
    "\n",
    "    # Compression Rate from Number of Parameters Reduced\n",
    "    dense2_para = 409856\n",
    "\n",
    "    print(\"dense2 fine tune\")\n",
    "    print (\"HiddenNeurons : \" , HiddenNeuron)\n",
    "    print (\"Initial  Parameters : \" , model.count_params())\n",
    "    print (\"Compressed dense2 parameters: \", model.count_params() - dense2_para + student_model.count_params())\n",
    "    compressionRate = model.count_params() / np.float(model.count_params() - dense2_para + student_model.count_params())\n",
    "    print (\"Compression Rate : \" , compressionRate)\n",
    "\n",
    "    lastconv_out = 0\n",
    "    logit_out2 = 0                \n",
    "\n",
    "    h5f = h5py.File('model_1/test_lastconv_out.h5', 'r')\n",
    "    test_lastconv_out = h5f['dataset_1'][:]\n",
    "    h5f.close()\n",
    "\n",
    "    h5f3 = h5py.File('model_1/test_logit_out2.h5', 'r')\n",
    "    test_logit_out = h5f3['dataset_1'][:]\n",
    "    h5f3.close()\n",
    "\n",
    "    accuracy_student = student_model.evaluate(test_lastconv_out, test_logit_out)\n",
    "    # accuracy_student = rfr.score(y_pred=np.array(pred),y_true=np.array(test_logit_out))\n",
    "    print (\"Accuracy compare with previous model prediction: \" , accuracy_student[1])\n",
    "\n",
    "    out = {\n",
    "        \"HiddenNeuron\" :    HiddenNeuron,\n",
    "        \"compressionRate\" : compressionRate,\n",
    "        \"nparams_student\" : student_model.count_params()  + convparams,\n",
    "        \"accuracy_student_premodel_prediction\": accuracy_student\n",
    "    }\n",
    "\n",
    "    student_model = 0 \n",
    "    lastconv_out = 0\n",
    "    logit_out = 0 \n",
    "    test_lastconv_out = 0\n",
    "    test_logit_out = 0 \n",
    "\n",
    "    results.append(out)"
   ]
  },
  {
   "cell_type": "code",
   "execution_count": 21,
   "metadata": {},
   "outputs": [
    {
     "name": "stdout",
     "output_type": "stream",
     "text": [
      "finetunedense2 =  [{'HiddenNeuron': 96, 'compressionRate': 1.8325677088603325, 'nparams_student': 270848, 'accuracy_student_premodel_prediction': [1.674135507774353, 0.6092]}, {'HiddenNeuron': 126, 'compressionRate': 1.5640126655152562, 'nparams_student': 321758, 'accuracy_student_premodel_prediction': [1.431967215538025, 0.6567]}, {'HiddenNeuron': 156, 'compressionRate': 1.3641083578117548, 'nparams_student': 372668, 'accuracy_student_premodel_prediction': [0.9135502194404602, 0.6952]}, {'HiddenNeuron': 186, 'compressionRate': 1.2095142691776857, 'nparams_student': 423578, 'accuracy_student_premodel_prediction': [0.6473811587333679, 0.7516]}, {'HiddenNeuron': 216, 'compressionRate': 1.0863935376802032, 'nparams_student': 474488, 'accuracy_student_premodel_prediction': [0.3772724949836731, 0.8094]}, {'HiddenNeuron': 246, 'compressionRate': 0.986022793263647, 'nparams_student': 525398, 'accuracy_student_premodel_prediction': [0.19780712876319886, 0.8904]}]\n"
     ]
    },
    {
     "data": {
      "image/png": "[encoded data removed]",
      "text/plain": [
       "<matplotlib.figure.Figure at 0x163103048>"
      ]
     },
     "metadata": {
      "needs_background": "light"
     },
     "output_type": "display_data"
    },
    {
     "data": {
      "image/png": "[encoded data removed]",
      "text/plain": [
       "<matplotlib.figure.Figure at 0x1638caef0>"
      ]
     },
     "metadata": {
      "needs_background": "light"
     },
     "output_type": "display_data"
    }
   ],
   "source": [
    "print('finetunedense2 = ',results)\n",
    "plot_findings2(results,'dense2',save=True)"
   ]
  },
  {
   "cell_type": "markdown",
   "metadata": {},
   "source": [
    "# Future work\n",
    "1.Try to use fine tune dense2 layer to add back to the model and further fine tune dense1 layer.\n",
    "2.Try to reduce conv layer with same concept (maybe random reduce number of connecting layer to see the correlation of accuray and parameters)"
   ]
  }
 ],
 "metadata": {
  "kernelspec": {
   "display_name": "Python 3",
   "language": "python",
   "name": "python3"
  },
  "language_info": {
   "codemirror_mode": {
    "name": "ipython",
    "version": 3
   },
   "file_extension": ".py",
   "mimetype": "text/x-python",
   "name": "python",
   "nbconvert_exporter": "python",
   "pygments_lexer": "ipython3",
   "version": "3.6.1"
  }
 },
 "nbformat": 4,
 "nbformat_minor": 2
}
